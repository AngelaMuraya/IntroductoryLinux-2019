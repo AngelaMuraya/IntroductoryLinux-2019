{
 "cells": [
  {
   "cell_type": "markdown",
   "metadata": {},
   "source": [
    "## Introdcution to Linux\n",
    "\n",
    "This program seeks to pilot the EANBiT MSc course to begin in September at Pwani University. The composition of the group beng trained will determine how deep we can go with this, given that we only have 2 days to introduce Linux and Python...and generally computing.\n",
    "\n",
    "I envision the outline to be:\n",
    "\n",
    "1. Introduce computing as a whole, and how to think logically when learning and writting computer programs\n",
    "2. Introduce Linux. The topics would include:\n",
    "    - A brief history to Linux\n",
    "    - Introduction to Linux, UNIX, and the command line\n",
    "    - Manipulating files – useful commands and tips\n",
    "    - Extracting information from files\n",
    "    - Permissions, groups, and process control\n",
    "    \n",
    "3. Introduction to Python\n",
    "    - Setting up\n",
    "    - What is it?\n",
    "        - what is a program?\n",
    "        - input and output\n",
    "        - Errors and error messages\n",
    "        - How to figure out what went wrong\n",
    "        - First program\n",
    "        - Comments\n",
    "        - Provide exercises build into the Ipython Notebook\n",
    "    - Using Python for basic math\n",
    "        - hands on exercise\n",
    "    - Variables expressions and statements\n",
    "        - values and datatypes\n",
    "        - "
   ]
  },
  {
   "cell_type": "code",
   "execution_count": null,
   "metadata": {},
   "outputs": [],
   "source": []
  },
  {
   "cell_type": "code",
   "execution_count": 1,
   "metadata": {},
   "outputs": [
    {
     "data": {
      "text/plain": [
       "4"
      ]
     },
     "execution_count": 1,
     "metadata": {},
     "output_type": "execute_result"
    }
   ],
   "source": [
    "2+2"
   ]
  },
  {
   "cell_type": "code",
   "execution_count": 2,
   "metadata": {},
   "outputs": [
    {
     "data": {
      "text/plain": [
       "'/home/caleb/EANBiT/Linux'"
      ]
     },
     "execution_count": 2,
     "metadata": {},
     "output_type": "execute_result"
    }
   ],
   "source": [
    "pwd"
   ]
  },
  {
   "cell_type": "code",
   "execution_count": null,
   "metadata": {},
   "outputs": [],
   "source": [
    "cd "
   ]
  }
 ],
 "metadata": {
  "kernelspec": {
   "display_name": "Python 3",
   "language": "python",
   "name": "python3"
  },
  "language_info": {
   "codemirror_mode": {
    "name": "ipython",
    "version": 3
   },
   "file_extension": ".py",
   "mimetype": "text/x-python",
   "name": "python",
   "nbconvert_exporter": "python",
   "pygments_lexer": "ipython3",
   "version": "3.6.5"
  }
 },
 "nbformat": 4,
 "nbformat_minor": 2
}
